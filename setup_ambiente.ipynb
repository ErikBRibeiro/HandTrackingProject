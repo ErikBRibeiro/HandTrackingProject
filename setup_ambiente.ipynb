{
 "cells": [
  {
   "cell_type": "markdown",
   "id": "23296746",
   "metadata": {},
   "source": [
    "# Mini Bootcamp — Fundamentos de Data Science & AI Engineer\n",
    "## Guia de Instalação e Configuração do Ambiente (setup_ambiente.ipynb)\n",
    "\n",
    "Este notebook serve como manual de instalação e primeiro teste do projeto utilizado no Mini Bootcamp.\n",
    "\n",
    "**Objetivo:**  \n",
    "Permitir que qualquer pessoa — mesmo sem experiência prévia em programação — consiga:\n",
    "1. Clonar o repositório;\n",
    "2. Criar e ativar um ambiente virtual (venv);\n",
    "3. Instalar as dependências necessárias;\n",
    "4. Testar a webcam e os módulos principais do projeto;\n",
    "5. Executar os scripts do repositório.\n",
    "\n",
    "---\n",
    "\n",
    "**Compatível com:** Windows, macOS e Linux  \n",
    "**Versão recomendada do Python:** 3.12  \n",
    "**IDE recomendada:** Visual Studio Code ou Jupyter Notebook  \n",
    "**Requisitos adicionais:** Git instalado e permissão de acesso à câmara\n",
    "\n",
    "---"
   ]
  },
  {
   "cell_type": "markdown",
   "id": "54d23b99",
   "metadata": {},
   "source": [
    "## 1. Verificar se o Git está instalado\n",
    "\n",
    "\n"
   ]
  },
  {
   "cell_type": "markdown",
   "id": "4d4bcf69",
   "metadata": {},
   "source": [
    "O Git é utilizado para fazer o download (clonar) do projeto e receber futuras atualizações.  \n",
    "Execute o comando abaixo:"
   ]
  },
  {
   "cell_type": "code",
   "execution_count": null,
   "id": "b3749080",
   "metadata": {},
   "outputs": [],
   "source": [
    "!git --version"
   ]
  },
  {
   "cell_type": "markdown",
   "id": "de9cce56",
   "metadata": {},
   "source": [
    "**Saída esperada:**\n"
   ]
  },
  {
   "cell_type": "markdown",
   "id": "7e23db7b",
   "metadata": {},
   "source": [
    "git version 2.xx.x"
   ]
  },
  {
   "cell_type": "markdown",
   "id": "64e1e987",
   "metadata": {},
   "source": [
    "\n",
    "Se aparecer `command not found`, instale o Git:\n",
    "\n",
    "- Windows: [https://git-scm.com/downloads](https://git-scm.com/downloads)  \n",
    "- macOS: `xcode-select --install`  \n",
    "- Ubuntu/Debian: `sudo apt install git`\n"
   ]
  },
  {
   "cell_type": "markdown",
   "id": "8c9ad9c0",
   "metadata": {},
   "source": [
    "---"
   ]
  },
  {
   "cell_type": "markdown",
   "id": "cc6df8ff",
   "metadata": {},
   "source": [
    "## 2. Verificar versão do Python"
   ]
  },
  {
   "cell_type": "markdown",
   "id": "d970d1b3",
   "metadata": {},
   "source": [
    "O projeto utiliza **Python 3.12**.  \n",
    "Confirme a versão instalada executando:"
   ]
  },
  {
   "cell_type": "code",
   "execution_count": null,
   "id": "7d5901ea",
   "metadata": {},
   "outputs": [],
   "source": [
    "!python --version"
   ]
  },
  {
   "cell_type": "markdown",
   "id": "56611d92",
   "metadata": {},
   "source": [
    "**Saída esperada:**\n"
   ]
  },
  {
   "cell_type": "markdown",
   "id": "be5ea302",
   "metadata": {},
   "source": [
    "Python 3.12.x"
   ]
  },
  {
   "cell_type": "markdown",
   "id": "b3a538f9",
   "metadata": {},
   "source": [
    "\n",
    "Se a versão for diferente, instale o **Python 3.12** a partir de:  \n",
    "[https://www.python.org/downloads/release/python-3120/](https://www.python.org/downloads/release/python-3120/)\n"
   ]
  },
  {
   "cell_type": "markdown",
   "id": "5d24ead5",
   "metadata": {},
   "source": [
    "\n",
    "---"
   ]
  },
  {
   "cell_type": "markdown",
   "id": "0483e394",
   "metadata": {},
   "source": [
    "## 3. Clonar o repositório\n",
    "\n",
    "\n"
   ]
  },
  {
   "cell_type": "markdown",
   "id": "919ce6dd",
   "metadata": {},
   "source": [
    "Baixe o projeto do GitHub (ou atualize se já tiver baixado antes)."
   ]
  },
  {
   "cell_type": "code",
   "execution_count": null,
   "id": "537aba54",
   "metadata": {},
   "outputs": [],
   "source": [
    "!git clone https://github.com/ErikBRibeiro/HandTrackingProject.git\n"
   ]
  },
  {
   "cell_type": "markdown",
   "id": "cb29c374",
   "metadata": {},
   "source": [
    "### Entrar na pasta do projeto"
   ]
  },
  {
   "cell_type": "code",
   "execution_count": null,
   "id": "311b23cb",
   "metadata": {},
   "outputs": [],
   "source": [
    "%cd HandTrackingProject"
   ]
  },
  {
   "cell_type": "markdown",
   "id": "4ca7eb84",
   "metadata": {},
   "source": [
    "**Saída esperada:**\n"
   ]
  },
  {
   "cell_type": "markdown",
   "id": "e7d86240",
   "metadata": {},
   "source": [
    "Cloning into 'HandTrackingProject'...                                                            \n",
    "Receiving objects: 100% (...)                                                         \n",
    "Resolving deltas: 100% (...)"
   ]
  },
  {
   "cell_type": "markdown",
   "id": "a36f2336",
   "metadata": {},
   "source": [
    "Se o repositório já existir localmente:"
   ]
  },
  {
   "cell_type": "code",
   "execution_count": null,
   "id": "3b613391",
   "metadata": {},
   "outputs": [],
   "source": [
    "!git pull"
   ]
  },
  {
   "cell_type": "markdown",
   "id": "c2d0c785",
   "metadata": {},
   "source": [
    "---"
   ]
  },
  {
   "cell_type": "markdown",
   "id": "0ec27839",
   "metadata": {},
   "source": [
    "## 4. Verificar o pip"
   ]
  },
  {
   "cell_type": "markdown",
   "id": "e1da000c",
   "metadata": {},
   "source": [
    "O pip é o gerenciador de pacotes do Python e deve estar atualizado."
   ]
  },
  {
   "cell_type": "code",
   "execution_count": null,
   "id": "96a48856",
   "metadata": {},
   "outputs": [],
   "source": [
    "!python -m pip --version"
   ]
  },
  {
   "cell_type": "markdown",
   "id": "6986785f",
   "metadata": {},
   "source": [
    "**Saída esperada:**\n"
   ]
  },
  {
   "cell_type": "markdown",
   "id": "7b6e1340",
   "metadata": {},
   "source": [
    "pip x.y.z from ... (python 3.12)"
   ]
  },
  {
   "cell_type": "markdown",
   "id": "28eeab04",
   "metadata": {},
   "source": [
    "\n",
    "Se o pip não estiver instalado ou estiver desatualizado, atualize-o com o comando abaixo:"
   ]
  },
  {
   "cell_type": "code",
   "execution_count": null,
   "id": "5a1a898b",
   "metadata": {},
   "outputs": [],
   "source": [
    "!python -m ensurepip --upgrade                                     \n",
    "!python -m pip install --upgrade pip"
   ]
  },
  {
   "cell_type": "markdown",
   "id": "32dbee5f",
   "metadata": {},
   "source": [
    "**Saída esperada:**\n"
   ]
  },
  {
   "cell_type": "markdown",
   "id": "62c68ba2",
   "metadata": {},
   "source": [
    "Looking in links: ...                                    \n",
    "Requirement already satisfied: pip in ./venv/lib/python3.12/site-packages                 \n",
    "Successfully installed pip-x.y.z"
   ]
  },
  {
   "cell_type": "markdown",
   "id": "b9bfd08b",
   "metadata": {},
   "source": [
    "---"
   ]
  },
  {
   "cell_type": "markdown",
   "id": "29d4a81f",
   "metadata": {},
   "source": [
    "## 5. Criar o ambiente virtual (venv)\n",
    "\n",
    "\n"
   ]
  },
  {
   "cell_type": "markdown",
   "id": "6e1ed10f",
   "metadata": {},
   "source": [
    "O ambiente virtual isola as bibliotecas do projeto, evitando conflitos com outras instalações.  \n",
    "Execute o comando abaixo:"
   ]
  },
  {
   "cell_type": "code",
   "execution_count": null,
   "id": "bbf825b0",
   "metadata": {},
   "outputs": [],
   "source": [
    "!python -m venv venv"
   ]
  },
  {
   "cell_type": "markdown",
   "id": "20cb5963",
   "metadata": {},
   "source": [
    "Isso criará uma pasta chamada `venv/` dentro do projeto.\n",
    "\n",
    "Ative o ambiente virtual **fora do Jupyter**, no terminal do sistema ou do VSCode:\n",
    "\n",
    "**Windows (PowerShell):**\n"
   ]
  },
  {
   "cell_type": "markdown",
   "id": "b4f9589d",
   "metadata": {},
   "source": [
    ".\\venv\\Scripts\\Activate.ps1"
   ]
  },
  {
   "cell_type": "markdown",
   "id": "5d42c7d7",
   "metadata": {},
   "source": [
    "\n",
    "**Windows (CMD):**\n"
   ]
  },
  {
   "cell_type": "markdown",
   "id": "6450ed91",
   "metadata": {},
   "source": [
    "venv\\Scripts\\activate.bat"
   ]
  },
  {
   "cell_type": "markdown",
   "id": "34dca2b3",
   "metadata": {},
   "source": [
    "\n",
    "**macOS / Linux:**\n"
   ]
  },
  {
   "cell_type": "markdown",
   "id": "05271c09",
   "metadata": {},
   "source": [
    "source venv/bin/activate"
   ]
  },
  {
   "cell_type": "markdown",
   "id": "1fa82574",
   "metadata": {},
   "source": [
    "\n",
    "**Saída esperada:**\n",
    "O terminal mostrará `(venv)` antes do caminho.  \n",
    "Exemplo:\n"
   ]
  },
  {
   "cell_type": "markdown",
   "id": "3a7459bd",
   "metadata": {},
   "source": [
    "(venv) C:\\User\\Desktop\\projeto>"
   ]
  },
  {
   "cell_type": "markdown",
   "id": "0dded16c",
   "metadata": {},
   "source": [
    "---"
   ]
  },
  {
   "cell_type": "markdown",
   "id": "3135eb00",
   "metadata": {},
   "source": [
    "## 6. Atualizar o pip (dentro do ambiente virtual)"
   ]
  },
  {
   "cell_type": "markdown",
   "id": "40c556e8",
   "metadata": {},
   "source": [
    "É importante garantir que o instalador de pacotes esteja atualizado.\n"
   ]
  },
  {
   "cell_type": "code",
   "execution_count": null,
   "id": "c4b880dd",
   "metadata": {},
   "outputs": [],
   "source": [
    "!python -m pip install --upgrade pip"
   ]
  },
  {
   "cell_type": "markdown",
   "id": "b6955166",
   "metadata": {},
   "source": [
    "**Saída esperada:**\n"
   ]
  },
  {
   "cell_type": "markdown",
   "id": "067e133d",
   "metadata": {},
   "source": [
    "Successfully installed pip-x.y.z"
   ]
  },
  {
   "cell_type": "markdown",
   "id": "b1c8a3ba",
   "metadata": {},
   "source": [
    "---"
   ]
  },
  {
   "cell_type": "markdown",
   "id": "3f7c46f4",
   "metadata": {},
   "source": [
    "## 7. Instalar as dependências do projeto"
   ]
  },
  {
   "cell_type": "markdown",
   "id": "1ae564af",
   "metadata": {},
   "source": [
    "Todas as bibliotecas necessárias estão listadas no arquivo `requirements.txt`."
   ]
  },
  {
   "cell_type": "code",
   "execution_count": null,
   "id": "1116c52e",
   "metadata": {},
   "outputs": [],
   "source": [
    "%pip install -r requirements.txt"
   ]
  },
  {
   "cell_type": "markdown",
   "id": "4ad51835",
   "metadata": {},
   "source": [
    "**Saída esperada:**\n"
   ]
  },
  {
   "cell_type": "markdown",
   "id": "5d0b02d6",
   "metadata": {},
   "source": [
    "Successfully installed opencv-python mediapipe numpy ..."
   ]
  },
  {
   "cell_type": "markdown",
   "id": "288baf6f",
   "metadata": {},
   "source": [
    "\n",
    "Se aparecer `Requirement already satisfied`, significa que a biblioteca já estava instalada.\n"
   ]
  },
  {
   "cell_type": "markdown",
   "id": "fe6ac606",
   "metadata": {},
   "source": [
    "---"
   ]
  },
  {
   "cell_type": "markdown",
   "id": "d97d5433",
   "metadata": {},
   "source": [
    "## 8. Testar as bibliotecas principais"
   ]
  },
  {
   "cell_type": "markdown",
   "id": "7e3a5985",
   "metadata": {},
   "source": [
    "Verifique se as bibliotecas principais foram instaladas corretamente."
   ]
  },
  {
   "cell_type": "code",
   "execution_count": null,
   "id": "e5952c6a",
   "metadata": {},
   "outputs": [],
   "source": [
    "import cv2, mediapipe as mp, numpy as np                     \n",
    "                                                                  \n",
    "print(\"OpenCV:\", cv2.__version__)                  \n",
    "print(\"MediaPipe disponível:\", hasattr(mp, \"__version__\"))                                   \n",
    "print(\"NumPy:\", np.__version__)                               \n"
   ]
  },
  {
   "cell_type": "markdown",
   "id": "e3bbe941",
   "metadata": {},
   "source": [
    "**Saída esperada:**\n"
   ]
  },
  {
   "cell_type": "markdown",
   "id": "faebce64",
   "metadata": {},
   "source": [
    "OpenCV: 4.x.x                                                       \n",
    "MediaPipe disponível: True                                       \n",
    "NumPy: 1.x.x                                     "
   ]
  },
  {
   "cell_type": "markdown",
   "id": "74017ac3",
   "metadata": {},
   "source": [
    "---"
   ]
  },
  {
   "cell_type": "markdown",
   "id": "58b56dfc",
   "metadata": {},
   "source": [
    "## 9. Testar a webcam"
   ]
  },
  {
   "cell_type": "markdown",
   "id": "4a90149b",
   "metadata": {},
   "source": [
    "Este teste garante que o OpenCV consegue aceder à câmara."
   ]
  },
  {
   "cell_type": "code",
   "execution_count": null,
   "id": "b1dd5853",
   "metadata": {},
   "outputs": [],
   "source": [
    "import cv2\n",
    "\n",
    "cap = cv2.VideoCapture(0)\n",
    "print(\"Webcam detectada.\" if cap.isOpened() else \"Erro: não foi possível aceder à webcam.\")\n",
    "cap.release()\n",
    "cv2.destroyAllWindows()\n"
   ]
  },
  {
   "cell_type": "markdown",
   "id": "d2ce74b2",
   "metadata": {},
   "source": [
    "**Saída esperada:**\n"
   ]
  },
  {
   "cell_type": "markdown",
   "id": "ae164097",
   "metadata": {},
   "source": [
    "Webcam detectada."
   ]
  },
  {
   "cell_type": "markdown",
   "id": "293b395a",
   "metadata": {},
   "source": [
    "\n",
    "**Possíveis soluções de erro:**\n",
    "- Fechar Zoom, Teams, OBS ou outros programas que usem a câmara.  \n",
    "- No macOS: autorizar o “Terminal” ou “VS Code” em Preferências → Segurança → Câmara.\n"
   ]
  },
  {
   "cell_type": "markdown",
   "id": "946c4063",
   "metadata": {},
   "source": [
    "---"
   ]
  },
  {
   "cell_type": "markdown",
   "id": "d4cbe115",
   "metadata": {},
   "source": [
    "## 10. Executar os scripts do projeto"
   ]
  },
  {
   "cell_type": "markdown",
   "id": "8b5d507a",
   "metadata": {},
   "source": [
    "Com o ambiente configurado, é possível executar os scripts principais.  \n",
    "Exemplo:"
   ]
  },
  {
   "cell_type": "code",
   "execution_count": null,
   "id": "c8945ed7",
   "metadata": {},
   "outputs": [],
   "source": [
    "!python VolumeHandControl.py"
   ]
  },
  {
   "cell_type": "markdown",
   "id": "80e01b89",
   "metadata": {},
   "source": [
    "Para encerrar o Script, pressione a tecla Q\n",
    "\n",
    "**Saída esperada:**\n",
    "Uma janela do OpenCV abre mostrando o vídeo da câmara.  \n",
    "A movimentação dos dedos ajusta o volume do sistema.\n",
    "\n",
    "Scripts disponíveis:\n",
    "- `VolumeHandControl.py`\n",
    "- `FingerCountingProject.py`\n",
    "- `AiVirtualMouseProject.py`\n"
   ]
  },
  {
   "cell_type": "markdown",
   "id": "bd5e1dad",
   "metadata": {},
   "source": [
    "---"
   ]
  },
  {
   "cell_type": "markdown",
   "id": "ce9967a8",
   "metadata": {},
   "source": [
    "## 11. Atualizar o repositório no futuro"
   ]
  },
  {
   "cell_type": "markdown",
   "id": "0264e1a5",
   "metadata": {},
   "source": [
    "Para receber atualizações do projeto, execute:"
   ]
  },
  {
   "cell_type": "code",
   "execution_count": null,
   "id": "93a0fb14",
   "metadata": {},
   "outputs": [],
   "source": [
    "!git pull"
   ]
  },
  {
   "cell_type": "markdown",
   "id": "ab1230b7",
   "metadata": {},
   "source": [
    "**Saída esperada:**\n"
   ]
  },
  {
   "cell_type": "markdown",
   "id": "7c281bd5",
   "metadata": {},
   "source": [
    "Already up to date.                               \n",
    "ou                     \n",
    "Updating <hash>..<hash>             "
   ]
  },
  {
   "cell_type": "markdown",
   "id": "b9eef28d",
   "metadata": {},
   "source": [
    "---"
   ]
  },
  {
   "cell_type": "markdown",
   "id": "ad23f8af",
   "metadata": {},
   "source": [
    "## 12. Solução de problemas comuns"
   ]
  },
  {
   "cell_type": "markdown",
   "id": "fc15136a",
   "metadata": {},
   "source": [
    "| Problema | Solução sugerida |\n",
    "|-----------|------------------|\n",
    "| `pip` não reconhecido | Reabra o terminal com o Python 3.12 adicionado ao PATH |\n",
    "| `cv2` não encontrado | Reinstale: `pip install opencv-python` |\n",
    "| Webcam não abre | Feche outros programas que utilizem a câmara |\n",
    "| `Permission denied` (Windows) | Execute o PowerShell como administrador e rode `Set-ExecutionPolicy RemoteSigned` |\n",
    "| Ambiente virtual não ativa | Verifique se está na pasta correta (`.\\venv\\Scripts\\Activate.ps1`) |\n",
    "| Versão do Python incorreta | Reinstale o Python 3.12 e recrie o ambiente virtual |"
   ]
  },
  {
   "cell_type": "markdown",
   "id": "980bc111",
   "metadata": {},
   "source": [
    "---"
   ]
  },
  {
   "cell_type": "markdown",
   "id": "49fb3531",
   "metadata": {},
   "source": [
    "## 13. Conclusão"
   ]
  },
  {
   "cell_type": "markdown",
   "id": "2f5fde22",
   "metadata": {},
   "source": [
    "Se chegou até aqui, o ambiente de execução está configurado corretamente.\n",
    "\n",
    "**O que foi realizado:**\n",
    "- Clonagem e atualização do repositório com Git  \n",
    "- Verificação da versão correta do Python (3.12)  \n",
    "- Criação e ativação do ambiente virtual  \n",
    "- Instalação de dependências via pip  \n",
    "- Teste de bibliotecas e hardware  \n",
    "- Execução dos scripts do projeto\n",
    "\n",
    "Para continuar, abra o seu IDE (VS Code ou Jupyter Notebook) e explore os projetos de visão computacional:\n",
    "- Controle de volume por gestos  \n",
    "- Contagem de dedos  \n",
    "- Controle do mouse com a câmara\n",
    "\n",
    "Esses projetos demonstram o potencial da Inteligência Artificial aplicada a interações em tempo real."
   ]
  }
 ],
 "metadata": {
  "kernelspec": {
   "display_name": "venv",
   "language": "python",
   "name": "python3"
  },
  "language_info": {
   "codemirror_mode": {
    "name": "ipython",
    "version": 3
   },
   "file_extension": ".py",
   "mimetype": "text/x-python",
   "name": "python",
   "nbconvert_exporter": "python",
   "pygments_lexer": "ipython3",
   "version": "3.12.10"
  }
 },
 "nbformat": 4,
 "nbformat_minor": 5
}
